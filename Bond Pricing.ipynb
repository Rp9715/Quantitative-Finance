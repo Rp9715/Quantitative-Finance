{
 "cells": [
  {
   "cell_type": "markdown",
   "id": "63eb8b55",
   "metadata": {},
   "source": [
    "# Bond Pricing"
   ]
  },
  {
   "cell_type": "markdown",
   "id": "572d3040",
   "metadata": {},
   "source": [
    "* <b>Bond Price = Present Value of Annuity + Present Value of Face Value (Single Payment)</b>\n",
    "* <b>Present Value of Annuity</b> = C((1-(1/(1+r)<sup>n</sup>))/r)\n",
    "   - C = Coupon Payment = Face Value * Yeild to Maturity\n",
    "   - r = Yeild to Maturity\n",
    "   - n = Time Period\n",
    "* <b>Present Value of Face Value</b> = Face Value/(1+r)<sup>n</sup>"
   ]
  },
  {
   "cell_type": "code",
   "execution_count": 2,
   "id": "b0e941ac",
   "metadata": {},
   "outputs": [
    {
     "name": "stdout",
     "output_type": "stream",
     "text": [
      "Requirement already satisfied: numpy-financial in c:\\users\\riya patil\\anaconda3\\lib\\site-packages (1.0.0)\n",
      "Requirement already satisfied: numpy>=1.15 in c:\\users\\riya patil\\anaconda3\\lib\\site-packages (from numpy-financial) (1.21.5)\n"
     ]
    }
   ],
   "source": [
    "!pip install numpy-financial"
   ]
  },
  {
   "cell_type": "code",
   "execution_count": 8,
   "id": "4f4a5113",
   "metadata": {},
   "outputs": [],
   "source": [
    "import numpy as np\n",
    "import numpy_financial as npf\n",
    "import math"
   ]
  },
  {
   "cell_type": "code",
   "execution_count": 9,
   "id": "1d9b6ccb",
   "metadata": {},
   "outputs": [
    {
     "name": "stdout",
     "output_type": "stream",
     "text": [
      "Enter Face Value: 1000\n",
      "Enter Coupon Rate (Eg. 0.13 for 13%): 0.08\n",
      "Enter Yeild to Maturity rate (Market Rate): 0.09\n",
      "Enter Time Period in Years: 7\n"
     ]
    }
   ],
   "source": [
    "Face_Value = float(input(\"Enter Face Value: \"))\n",
    "Coupon_Rate = float(input(\"Enter Coupon Rate (Eg. 0.13 for 13%): \"))\n",
    "YTM = float(input(\"Enter Yeild to Maturity rate (Market Rate): \"))\n",
    "Period = float(input(\"Enter Time Period in Years: \"))"
   ]
  },
  {
   "cell_type": "code",
   "execution_count": 10,
   "id": "b3696242",
   "metadata": {},
   "outputs": [
    {
     "name": "stdout",
     "output_type": "stream",
     "text": [
      "Price of Bond:  949.6704716492574\n"
     ]
    }
   ],
   "source": [
    "Coupon_Payment = (Face_Value * Coupon_Rate)\n",
    "Coupon_Payment\n",
    "Bond_Price = (npf.pv(YTM, Period, Coupon_Payment, Face_Value))* -1\n",
    "print(\"Price of Bond: \", Bond_Price) "
   ]
  },
  {
   "cell_type": "markdown",
   "id": "4967a373",
   "metadata": {},
   "source": [
    "- As Yeild to Maturity (Market Rate) <b>increase</b>, bond price <b>decrease</b>.\n",
    "- As Yeild to Maturity <b>decrease</b>, bond price <b>increase</b>."
   ]
  },
  {
   "cell_type": "markdown",
   "id": "868c47fe",
   "metadata": {},
   "source": [
    "### Continuous Discount Model"
   ]
  },
  {
   "cell_type": "code",
   "execution_count": 13,
   "id": "7afbbe78",
   "metadata": {},
   "outputs": [
    {
     "name": "stdout",
     "output_type": "stream",
     "text": [
      "Continuous Discount Price:  532.5918010068972\n"
     ]
    }
   ],
   "source": [
    "Compound = Face_Value * (math.exp(-YTM * Period))\n",
    "print(\"Continuous Discount Price: \", Compound)"
   ]
  },
  {
   "cell_type": "code",
   "execution_count": null,
   "id": "d5a28f12",
   "metadata": {},
   "outputs": [],
   "source": []
  }
 ],
 "metadata": {
  "kernelspec": {
   "display_name": "Python 3 (ipykernel)",
   "language": "python",
   "name": "python3"
  },
  "language_info": {
   "codemirror_mode": {
    "name": "ipython",
    "version": 3
   },
   "file_extension": ".py",
   "mimetype": "text/x-python",
   "name": "python",
   "nbconvert_exporter": "python",
   "pygments_lexer": "ipython3",
   "version": "3.9.13"
  }
 },
 "nbformat": 4,
 "nbformat_minor": 5
}
