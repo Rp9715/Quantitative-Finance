{
 "cells": [
  {
   "cell_type": "markdown",
   "id": "3c0fdb96",
   "metadata": {},
   "source": [
    "# Binomial Method"
   ]
  },
  {
   "cell_type": "markdown",
   "id": "8c14243e",
   "metadata": {},
   "source": [
    "Using an iterative process and numerous periods to value American options, the binomial option pricing model values options. Each execution of the model has two potential outcomes: a move up or a move down that follows a binomial tree."
   ]
  },
  {
   "cell_type": "code",
   "execution_count": 1,
   "id": "9b9ee936",
   "metadata": {},
   "outputs": [],
   "source": [
    "import numpy as np\n",
    "import scipy\n",
    "import scipy.linalg as la\n",
    "import scipy.stats as si\n",
    "import scipy.sparse.linalg as sla\n",
    "import matplotlib.pyplot as plt\n",
    "from numpy import linalg as la\n",
    "from scipy.linalg import hilbert, inv, norm\n",
    "from scipy import sparse as sps\n",
    "from scipy.interpolate import interp1d"
   ]
  },
  {
   "cell_type": "code",
   "execution_count": 2,
   "id": "6c2951ff",
   "metadata": {},
   "outputs": [],
   "source": [
    "def BinomialAmericanOption(S, K, r, T, sigma, n=100, option='call'):\n",
    "    deltaT = T/n\n",
    "    u = np.exp(sigma * np.sqrt(deltaT))\n",
    "    d = 1.0 / u\n",
    "    a = np.exp(r*deltaT)\n",
    "    q = (a-d) / (u-d)\n",
    "    Sv = np.zeros((n+1,n+1))\n",
    "    V = np.zeros((n+1,n+1))\n",
    "    \n",
    "    # Build stock price matrix forward\n",
    "    for j in range(n+1):\n",
    "        for i in range(j+1):\n",
    "            Sv[i,j] = S * u**i * d**(j-i)\n",
    "            \n",
    "    if option == 'call':\n",
    "        CorP = 1\n",
    "    elif option == 'put':\n",
    "        CorP = -1\n",
    "        V[:,-1] = np.maximum((Sv[:,-1]-K)*CorP,0)\n",
    "   \n",
    "    # Price option with backward induction\n",
    "    for j in reversed(range(n)):\n",
    "        for i in range(j+1):\n",
    "            V[i,j] = np.exp(-r*deltaT) * (q*V[i+1,j+1] + (1.0-q)*V[i,j+1])\n",
    "            V[i,j] = np.maximum(V[i,j], (Sv[i,j]-K)*CorP)\n",
    "    return V[0,0]"
   ]
  },
  {
   "cell_type": "code",
   "execution_count": 3,
   "id": "458b6d91",
   "metadata": {},
   "outputs": [
    {
     "name": "stdout",
     "output_type": "stream",
     "text": [
      "Binomial Method for American Call Option:  44.777393789702415\n",
      "Binomial Method for American Put Option:  81.91794480907261\n"
     ]
    }
   ],
   "source": [
    "S     = 1000 \n",
    "sigma = 0.3  # Volatility\n",
    "n     = 100  # Number of steps\n",
    "r     = 0.06 # Risk-free interest rate\n",
    "K     = 1050 # Strike price\n",
    "T     = 0.25 # Time to maturity (in years)\n",
    "\n",
    "BMC=BinomialAmericanOption(S, K, r, T, sigma, n=100, option='call')\n",
    "BMP=BinomialAmericanOption(S, K, r, T, sigma, n=100, option='put')\n",
    "\n",
    "print(\"Binomial Method for American Call Option: \",BMC)\n",
    "print(\"Binomial Method for American Put Option: \",BMP)"
   ]
  },
  {
   "cell_type": "markdown",
   "id": "82892e96",
   "metadata": {},
   "source": [
    "The estimated value of an American option is <b>*44.77*</b> for a Call and <b>*81.91*</b> for a Put."
   ]
  },
  {
   "cell_type": "markdown",
   "id": "ceea0376",
   "metadata": {},
   "source": [
    "# Explicit Finite Difference Method"
   ]
  },
  {
   "cell_type": "markdown",
   "id": "fe3009f8",
   "metadata": {},
   "source": [
    "### American Call Option "
   ]
  },
  {
   "cell_type": "code",
   "execution_count": 5,
   "id": "e6741a96",
   "metadata": {},
   "outputs": [],
   "source": [
    "#Black-Scholes Code\n",
    "\n",
    "import numpy as np\n",
    "import scipy.stats as si\n",
    "import matplotlib.pyplot as plt\n",
    "from scipy.interpolate import interp1d\n",
    "\n",
    "def bs_price(S, K, r, T, sigma, option = 'call'):\n",
    "    d1 = (np.log(S/K)+(r+0.5*sigma**2)*T)/(sigma*np.sqrt(T))\n",
    "    d2 = (np.log(S/K)+(r-0.5*sigma**2)*T)/(sigma*np.sqrt(T))\n",
    "    \n",
    "    if option == 'call':\n",
    "        result = (S*si.norm.cdf(d1, 0.0, 1.0) -\n",
    "                  K*np.exp(-r*T)*si.norm.cdf(d2, 0.0, 1.0))\n",
    "    if option == 'put':\n",
    "        result = (K*np.exp(-r*T)*si.norm.cdf(-d2, 0.0, 1.0) -\n",
    "                  S*si.norm.cdf(-d1, 0.0, 1.0))\n",
    "    return result"
   ]
  },
  {
   "cell_type": "code",
   "execution_count": 6,
   "id": "86d58ec3",
   "metadata": {},
   "outputs": [],
   "source": [
    "def AmCallEx(S, K, r, T, sigma, Smax, dS, dt):\n",
    "    M = np.int_(np.round(Smax/dS))\n",
    "    dS = Smax/M\n",
    "    N = np.int_(np.round(T/dt))\n",
    "    dt = T/N\n",
    "    V = np.zeros((M+1,N+1))\n",
    "    Sv = np.linspace(0,Smax, M+1)\n",
    "    iv = np.arange(M+1)\n",
    "    jv = np.arange(N+1)\n",
    "    \n",
    "    V[:,-1] = np.maximum(Sv-K,0)\n",
    "    V[0,:] = 0\n",
    "    V[M,:] = Smax - K*np.exp(-r*dt*(N-jv))\n",
    "    \n",
    "    a = 0.5*dt*((sigma**2)*iv - r)*iv\n",
    "    b = 1-dt*((sigma**2)*(iv**2) + r)\n",
    "    c = 0.5*dt*((sigma**2)*iv + r)*iv\n",
    "    \n",
    "    for j in reversed(np.arange(N)):\n",
    "        for i in np.arange(1,M):\n",
    "            V[i,j] = a[i]*V[i-1,j+1]+b[i]*V[i,j+1]+c[i]*V[i+1,j+1]\n",
    "            V[i,j] = np.maximum(V[i,j], Sv[i]-K)\n",
    "            V[i,j] = np.maximum(V[i,j], (a[i]+b[i]+c[i])*V[i,j+1])\n",
    "            \n",
    "    f_interp = interp1d(Sv, V[:,0], kind = 'cubic') # Scipy interpolation    \n",
    "    price = f_interp(S)\n",
    "    return [Sv, V[:,0], price]"
   ]
  },
  {
   "cell_type": "code",
   "execution_count": 7,
   "id": "069256e9",
   "metadata": {},
   "outputs": [
    {
     "name": "stdout",
     "output_type": "stream",
     "text": [
      "price_bs, 45.162288763955075\n",
      "price_fd, 44.19479119008243\n"
     ]
    },
    {
     "data": {
      "text/plain": [
       "<matplotlib.legend.Legend at 0x1b067631760>"
      ]
     },
     "execution_count": 7,
     "metadata": {},
     "output_type": "execute_result"
    },
    {
     "data": {
      "image/png": "[encoded data removed]",
      "text/plain": [
       "<Figure size 640x480 with 1 Axes>"
      ]
     },
     "metadata": {},
     "output_type": "display_data"
    }
   ],
   "source": [
    "S     = 1000\n",
    "K     = 1050\n",
    "r     = 0.06\n",
    "T     = 3/12\n",
    "sigma = 0.3\n",
    "Smax  = 2000\n",
    "dS    = 140\n",
    "dt    = 0.0025\n",
    "\n",
    "price_bs = bs_price(S, K, r, T, sigma, option='call')\n",
    "\n",
    "Call = AmCallEx(S, K, r, T, sigma, Smax, dS, dt)\n",
    "Sv = Call[0]\n",
    "f = Call[1]\n",
    "price_fd = Call[2]\n",
    "\n",
    "print('price_bs,', price_bs)\n",
    "print('price_fd,', price_fd)\n",
    "\n",
    "plt.plot(Sv, f, '-', label='Option Price')\n",
    "plt.plot(Sv, np.maximum(Sv-K, 0), '-', label='Option Payoff')\n",
    "plt.xlabel('Stock Price')\n",
    "plt.ylabel('Option Price')\n",
    "plt.legend()"
   ]
  },
  {
   "cell_type": "markdown",
   "id": "21d8495d",
   "metadata": {},
   "source": [
    "### American Put Option "
   ]
  },
  {
   "cell_type": "code",
   "execution_count": 8,
   "id": "32ee401e",
   "metadata": {},
   "outputs": [],
   "source": [
    "def AmPutEx(S, K, r, T, sigma, Smax, dS, dt):\n",
    "    M = np.int_(np.round(Smax/dS))\n",
    "    dS = Smax/M\n",
    "    N = np.int_(np.round(T/dt))\n",
    "    dt = T/N\n",
    "    V = np.zeros((M+1,N+1))\n",
    "    Sv = np.linspace(0,Smax, M+1)\n",
    "    iv = np.arange(M+1)\n",
    "    jv = np.arange(N+1)\n",
    "    \n",
    "    V[:,-1] = np.maximum(K-Sv,0)\n",
    "    V[0,:] = K*np.exp(-r*dt*(N-jv))\n",
    "    V[M,:] = 0\n",
    "    \n",
    "    a = 0.5*dt*((sigma**2)*iv + r)*iv\n",
    "    b = 1-dt*((sigma**2)*(iv**2) + r)\n",
    "    c = -0.5*dt*((sigma**2)*iv - r)*iv\n",
    "    \n",
    "    for j in reversed(np.arange(N)):\n",
    "        for i in np.arange(1,M):\n",
    "            early_exercise = K - Sv[i]\n",
    "            continuation_value = (a[i]*V[i-1,j+1] + b[i]*V[i,j+1] + c[i]*V[i+1,j+1])\n",
    "            V[i,j] = max(early_exercise, continuation_value)\n",
    "    \n",
    "    f_interp = interp1d(Sv, V[:,0], kind = 'cubic')\n",
    "    price = f_interp(S)\n",
    "    return [Sv, V[:,0], price]"
   ]
  },
  {
   "cell_type": "code",
   "execution_count": 9,
   "id": "4c59c851",
   "metadata": {},
   "outputs": [
    {
     "name": "stdout",
     "output_type": "stream",
     "text": [
      "price_bs, 79.5298253471708\n",
      "price_fd, 80.96225175400468\n"
     ]
    },
    {
     "data": {
      "text/plain": [
       "<matplotlib.legend.Legend at 0x1b067698670>"
      ]
     },
     "execution_count": 9,
     "metadata": {},
     "output_type": "execute_result"
    },
    {
     "data": {
      "image/png": "[encoded data removed]",
      "text/plain": [
       "<Figure size 640x480 with 1 Axes>"
      ]
     },
     "metadata": {},
     "output_type": "display_data"
    }
   ],
   "source": [
    "S     = 1000\n",
    "K     = 1050\n",
    "r     = 0.06\n",
    "T     = 3/12\n",
    "sigma = 0.3\n",
    "Smax  = 2000\n",
    "dS    = 140\n",
    "dt    = 0.0025\n",
    "\n",
    "price_bs_call = bs_price(S, K, r, T, sigma, option='put')\n",
    "Put = AmPutEx(S, K, r, T, sigma, Smax, dS, dt)\n",
    "Sv = Put[0]\n",
    "f = Put[1]\n",
    "price_fd = Put[2]\n",
    "\n",
    "print('price_bs,', price_bs_call)\n",
    "print('price_fd,', price_fd)\n",
    "\n",
    "plt.plot(Sv, f, '-', label='Option Price')\n",
    "plt.plot(Sv, np.maximum(K-Sv, 0), '-', label='Option Payoff')\n",
    "plt.xlabel('Stock Price')\n",
    "plt.ylabel('Option Price')\n",
    "plt.legend()"
   ]
  },
  {
   "cell_type": "markdown",
   "id": "a9fd54b4",
   "metadata": {},
   "source": [
    "American Option value by Explicit Finite Difference Method for Call is <b> *44.19* </b> and for Put is <b> *80.96* </b>."
   ]
  },
  {
   "cell_type": "markdown",
   "id": "45394d7b",
   "metadata": {},
   "source": [
    "# Implicit Finite Difference Method-LU Decomposition"
   ]
  },
  {
   "cell_type": "markdown",
   "id": "a3b6a810",
   "metadata": {},
   "source": [
    "### American Call Option"
   ]
  },
  {
   "cell_type": "code",
   "execution_count": 11,
   "id": "aea92ee9",
   "metadata": {},
   "outputs": [],
   "source": [
    "def AmCallIm(S, K, r, T, sigma, Smax, dS, dt):\n",
    "    M = int(np.round(Smax/dS))\n",
    "    dS = Smax/M\n",
    "    N = int(np.round(T/dt))\n",
    "    dt = T/N\n",
    "    V = np.zeros((M+1,N+1))\n",
    "    Sv = np.linspace(0,Smax, M+1)\n",
    "    iv = np.arange(M+1)\n",
    "    jv = np.arange(N+1)\n",
    "    \n",
    "    #Set up boundary conditions\n",
    "    V[:,-1] = np.maximum(Sv-K,0)\n",
    "    V[0,:] = 0\n",
    "    V[M,:] = Smax - K*np.exp(-r*dt*(N-jv))\n",
    "    \n",
    "    # Set up tridiagonal coefficient matrix\n",
    "    a = -0.5*dt*((sigma**2)*iv - r)*iv\n",
    "    b = 1+dt*((sigma**2)*(iv**2) + r)\n",
    "    c = -0.5*dt*((sigma**2)*iv + r)*iv\n",
    "    \n",
    "    coef_mat =np.diag(a[2:M],-1)+np.diag(b[1:M])+np.diag(c[1:M-1],1)\n",
    "    LU = lu_factor(coef_mat)\n",
    "    \n",
    "    bc = np.zeros(M-1)\n",
    "    \n",
    "    for j in reversed(np.arange(N)):\n",
    "        bc[0] = -a[1]*V[0,j]\n",
    "        bc[M-2] = -c[M-1]*V[M,j]\n",
    "        \n",
    "        # Solve linear system A*V[1:M-1,j] = b with LU\n",
    "        V[1:M,j] = lu_solve(LU,V[1:M,j+1]+bc)\n",
    "    \n",
    "    f_interp = interp1d(Sv, V[:,0], kind = 'cubic') # Scipy interpolation\n",
    "    price = f_interp(S) # Scipy interpolation\n",
    "    return [Sv, V[:,0], price]"
   ]
  },
  {
   "cell_type": "code",
   "execution_count": 12,
   "id": "9d85dcb5",
   "metadata": {},
   "outputs": [
    {
     "name": "stdout",
     "output_type": "stream",
     "text": [
      "price_bs, 45.162288763955075\n",
      "price_fd, 44.07776954703448\n"
     ]
    },
    {
     "data": {
      "text/plain": [
       "<matplotlib.legend.Legend at 0x1b067717ee0>"
      ]
     },
     "execution_count": 12,
     "metadata": {},
     "output_type": "execute_result"
    },
    {
     "data": {
      "image/png": "[encoded data removed]",
      "text/plain": [
       "<Figure size 640x480 with 1 Axes>"
      ]
     },
     "metadata": {},
     "output_type": "display_data"
    }
   ],
   "source": [
    "S     = 1000\n",
    "K     = 1050\n",
    "r     = 0.06\n",
    "T     = 3/12\n",
    "sigma = 0.3\n",
    "Smax  = 2000\n",
    "dS    = 140\n",
    "dt    = 0.0025\n",
    "\n",
    "price_bs_call = bs_price(S, K, r, T, sigma, option='call')\n",
    "Call = AmCallIm(S, K, r, T, sigma, Smax, dS, dt)\n",
    "Sv = Call[0]\n",
    "f = Call[1]\n",
    "price_fd = Call[2]\n",
    "\n",
    "print('price_bs,', price_bs_call)\n",
    "print('price_fd,', price_fd)\n",
    "\n",
    "plt.plot(Sv, f, '-', label='Option Price')\n",
    "plt.plot(Sv, np.maximum(Sv-K, 0), '-', label='Option Payoff')\n",
    "plt.xlabel('Stock Price')\n",
    "plt.ylabel('Option Price')\n",
    "plt.legend()"
   ]
  },
  {
   "cell_type": "markdown",
   "id": "a5d5a1f9",
   "metadata": {},
   "source": [
    "### American Put Option"
   ]
  },
  {
   "cell_type": "code",
   "execution_count": 13,
   "id": "eff8351c",
   "metadata": {},
   "outputs": [],
   "source": [
    "def AmPutIm(S, K, r, T, sigma, Smax, dS, dt):\n",
    "    M = np.int_(np.round(Smax/dS))\n",
    "    dS = Smax/M\n",
    "    N = np.int_(np.round(T/dt))\n",
    "    dt = T/N\n",
    "    V = np.zeros((M+1,N+1))\n",
    "    Sv = np.linspace(0,Smax, M+1)\n",
    "    iv = np.arange(M+1)\n",
    "    jv = np.arange(N+1)\n",
    "    \n",
    "    #Set up boundary conditions\n",
    "    V[:,-1] = np.maximum(K-Sv,0)\n",
    "    V[0,:] = K*np.exp(-r*dt*(N-jv))\n",
    "    V[M,:] = 0\n",
    "\n",
    "    # Set up tridiagonal coefficient matrix\n",
    "    a = -0.5*dt*((sigma**2)*iv - r)*iv\n",
    "    b = 1+dt*((sigma**2)*(iv**2) + r)\n",
    "    c = -0.5*dt*((sigma**2)*iv + r)*iv\n",
    "    \n",
    "    coef_mat =np.diag(a[2:M],-1)+np.diag(b[1:M])+np.diag(c[1:M-1],1)\n",
    "    LU, C = la.lu_factor(coef_mat)\n",
    "    bc = np.zeros(M-1)\n",
    "    \n",
    "    for j in reversed(np.arange(N)):\n",
    "        bc[0] = -a[1]*V[0,j]\n",
    "        bc[M-2] = -c[M-1]*V[M,j]\n",
    "        \n",
    "        # Solve linear system A*V[1:M-1,j] = b with LU\n",
    "        V[1:M,j] = la.lu_solve((LU, C),V[1:M,j+1]+bc)\n",
    "        \n",
    "        f_interp = interp1d(Sv, V[:,0], kind = 'cubic') # Scipy interpolation\n",
    "        price = f_interp(S) # Scipy interpolation\n",
    "    return [Sv, V[:,0], price]"
   ]
  },
  {
   "cell_type": "code",
   "execution_count": 14,
   "id": "b99d4b57",
   "metadata": {},
   "outputs": [
    {
     "name": "stdout",
     "output_type": "stream",
     "text": [
      "price_bs, 79.5298253471708\n",
      "price_fd, 78.44646966026644\n"
     ]
    },
    {
     "data": {
      "text/plain": [
       "<matplotlib.legend.Legend at 0x1b0688555b0>"
      ]
     },
     "execution_count": 14,
     "metadata": {},
     "output_type": "execute_result"
    },
    {
     "data": {
      "image/png": "[encoded data removed]",
      "text/plain": [
       "<Figure size 640x480 with 1 Axes>"
      ]
     },
     "metadata": {},
     "output_type": "display_data"
    }
   ],
   "source": [
    "S     = 1000\n",
    "K     = 1050\n",
    "r     = 0.06\n",
    "T     = 3/12\n",
    "sigma = 0.3\n",
    "Smax  = 2000\n",
    "dS    = 140\n",
    "dt    = 0.0025\n",
    "\n",
    "price_bs_Put = bs_price(S, K, r, T, sigma, option='put')\n",
    "\n",
    "Put = AmPutIm(S, K, r, T, sigma, Smax, dS, dt)\n",
    "Sv = Put[0]\n",
    "f = Put[1]\n",
    "price_fd = Put[2]\n",
    "\n",
    "print('price_bs,', price_bs_Put)\n",
    "print('price_fd,', price_fd)\n",
    "\n",
    "plt.plot(Sv, f, '-', label='Option Price')\n",
    "plt.plot(Sv, np.maximum(K-Sv, 0), '-', label='Option Payoff')\n",
    "plt.xlabel('Stock Price')\n",
    "plt.ylabel('Option Price')\n",
    "plt.legend()"
   ]
  },
  {
   "cell_type": "markdown",
   "id": "a60b58c3",
   "metadata": {},
   "source": [
    "American Option Value by LU - Decomposition method for Call option is <b> *44.07* </b> whereas for Put option is <b> *78.44.* </b> "
   ]
  },
  {
   "cell_type": "markdown",
   "id": "a474c588",
   "metadata": {},
   "source": [
    "#  Implicit Finite Difference Method-Gauss Seidel Method"
   ]
  },
  {
   "cell_type": "code",
   "execution_count": 15,
   "id": "c3ec42cf",
   "metadata": {},
   "outputs": [],
   "source": [
    "def GaussSeidel(A, b, x0, epsil, MaxIter):\n",
    "    x = x0\n",
    "    N = len(b)\n",
    "  \n",
    "    for k in range(1,MaxIter):\n",
    "        x_new = np.zeros(N)\n",
    "        for i in range(N):\n",
    "            s1 = np.dot(A[i, :i], x_new[:i])\n",
    "            s2 = np.dot(A[i, i+1:], x[i+1:])\n",
    "            x_new[i] = (b[i] - s1 - s2)/A[i,i]\n",
    "        if np.allclose(x, x_new, rtol=epsil):\n",
    "            break\n",
    "        x=x_new    \n",
    "    return x"
   ]
  },
  {
   "cell_type": "markdown",
   "id": "d2e4e6d1",
   "metadata": {},
   "source": [
    "### American Call Option"
   ]
  },
  {
   "cell_type": "code",
   "execution_count": 16,
   "id": "6c6a0cb3",
   "metadata": {},
   "outputs": [],
   "source": [
    "def AmCallGauss(S, K, r, T, sigma, Smax, dS, dt):\n",
    "        M = int(np.round(Smax/dS))\n",
    "        dS = Smax/M\n",
    "        N = int(np.round(T/dt))\n",
    "        dt = T/N\n",
    "        V = np.zeros((M+1,N+1))\n",
    "        Sv = np.linspace(0,Smax, M+1)\n",
    "        iv = np.arange(M+1)\n",
    "        jv = np.arange(N+1)\n",
    "        \n",
    "        #Set up boundary conditions\n",
    "        V[:,-1] = np.maximum(Sv-K,0)\n",
    "        V[0,:] = 0\n",
    "        V[M,:] = np.maximum((Smax-K)*np.exp(-r*dt*(N-jv)),Smax-K)\n",
    "        \n",
    "        # Set up tridiagonal coefficient matrix\n",
    "        a = -0.5*dt*((sigma**2)*iv - r)*iv\n",
    "        b = 1+dt*((sigma**2)*(iv**2) + r)\n",
    "        c = -0.5*dt*((sigma**2)*iv + r)*iv\n",
    "        coef_mat =np.diag(a[2:M],-1)+np.diag(b[1:M])+np.diag(c[1:M-1],1)\n",
    "        bc = np.zeros(M-1)\n",
    "        \n",
    "        for j in reversed(np.arange(N)):\n",
    "            bc[0] = -a[1]*V[0,j]\n",
    "            bc[M-2] = -c[M-1]*V[M,j]\n",
    "            \n",
    "            # Solve linear system A*V[1:M-1,j] = b with Gauss Seidel\n",
    "            V[1:M, j] = GaussSeidel(coef_mat, V[1:M, j+1] + bc, np.zeros((M-1,1)), epsil, MaxIter)\n",
    "            \n",
    "            #Early exercise option in valuation \n",
    "            for m in range(0,M):\n",
    "                V[m,j]=np.maximum(Sv[m]-K,V[m,j])\n",
    "\n",
    "        f_interp = interp1d(Sv, V[:,0], kind = 'cubic') # Scipy interpolation\n",
    "        price = f_interp(S)\n",
    "        return [Sv, V[:,0], price]"
   ]
  },
  {
   "cell_type": "markdown",
   "id": "d7c59484",
   "metadata": {},
   "source": [
    "### American Put Option"
   ]
  },
  {
   "cell_type": "code",
   "execution_count": 17,
   "id": "6260b10d",
   "metadata": {},
   "outputs": [],
   "source": [
    " def AmPutGauss(S, K, r, T, sigma, Smax, dS, dt):\n",
    "        M = int(np.round(Smax/dS))\n",
    "        dS = Smax/M\n",
    "        N = int(np.round(T/dt))\n",
    "        dt = T/N\n",
    "        V = np.zeros((M+1,N+1))\n",
    "        Sv = np.linspace(0,Smax, M+1)\n",
    "        iv = np.arange(M+1)\n",
    "        jv = np.arange(N+1)\n",
    "        \n",
    "        #Set up boundary conditions\n",
    "        V[:,-1] = np.maximum(K-Sv,0)\n",
    "        V[0,:] = np.maximum((K)*np.exp(-r*dt*(N-jv)),K)\n",
    "        V[M,:] = 0\n",
    "        \n",
    "        # Set up tridiagonal coefficient matrix\n",
    "        a = -0.5*dt*((sigma**2)*iv - r)*iv\n",
    "        b = 1+dt*((sigma**2)*(iv**2) + r)\n",
    "        c = -0.5*dt*((sigma**2)*iv + r)*iv\n",
    "        coef_mat =np.diag(a[2:M],-1)+np.diag(b[1:M])+np.diag(c[1:M-1],1)\n",
    "        bc = np.zeros(M-1)\n",
    "        \n",
    "        for j in reversed(np.arange(N)):\n",
    "            bc[0] = -a[1]*V[0,j]\n",
    "            bc[M-2] = -c[M-1]*V[M,j]\n",
    "            \n",
    "            # Solve linear system A*V[1:M-1,j] = b with Gauss Seidel\n",
    "            V[1:M, j] = GaussSeidel(coef_mat, V[1:M, j+1] + bc, np.zeros((M-1,1)), epsil, MaxIter)\n",
    "            \n",
    "            #Early exercise option in valuation \n",
    "            for m in range(0,M):\n",
    "                V[m,j]=np.maximum(K-Sv[m],V[m,j])\n",
    "\n",
    "        f_interp = interp1d(Sv, V[:,0], kind = 'cubic') # Scipy interpolation\n",
    "        price = f_interp(S) \n",
    "        return [Sv, V[:,0], price]"
   ]
  },
  {
   "cell_type": "code",
   "execution_count": 18,
   "id": "a9bc7d46",
   "metadata": {},
   "outputs": [
    {
     "name": "stdout",
     "output_type": "stream",
     "text": [
      "American Call Option by Gauss Seidel:  45.101151802293316\n",
      "American Put Option by Gauss Seidel:  80.98729536946352\n"
     ]
    }
   ],
   "source": [
    "S       = 1000\n",
    "K       = 1050\n",
    "r       = 0.06\n",
    "T       = 3/12\n",
    "sigma   = 0.3\n",
    "Smax    = 2000\n",
    "dS      = 100\n",
    "dt      = 0.0025\n",
    "epsil   = 1e-6\n",
    "MaxIter = 1000\n",
    "\n",
    "Gauss_Seidel_Call = AmCallGauss(S, K, r, T, sigma, Smax, dS, dt)[2]\n",
    "Gauss_Seidel_Put = AmPutGauss(S, K, r, T, sigma, Smax, dS, dt)[2]\n",
    "\n",
    "print(\"American Call Option by Gauss Seidel: \", Gauss_Seidel_Call)\n",
    "print(\"American Put Option by Gauss Seidel: \", Gauss_Seidel_Put)"
   ]
  },
  {
   "cell_type": "markdown",
   "id": "2e7a28ab",
   "metadata": {},
   "source": [
    "By Gauss Seidel method American Call Option value is <b> *45.10* </b> and American Put Option value is <b> *80.98* </b>."
   ]
  },
  {
   "cell_type": "markdown",
   "id": "410e0c8f",
   "metadata": {},
   "source": [
    "# Implicit Finite Difference Method-Gauss Seidel SOR Method"
   ]
  },
  {
   "cell_type": "code",
   "execution_count": 19,
   "id": "d1bb066b",
   "metadata": {},
   "outputs": [],
   "source": [
    "def SORGaussSeidel(A, b, x0, omega, epsil, MaxIter):\n",
    "    x = x0\n",
    "    N = len(b)\n",
    "    for k in range(1,MaxIter):\n",
    "        x_new = np.zeros(N)\n",
    "        for i in range(N):\n",
    "            s1 = np.dot(A[i, :i], x_new[:i])\n",
    "            s2 = np.dot(A[i, i+1:], x[i+1:])\n",
    "            z = (b[i] - s1 - s2)/A[i,i]\n",
    "            x_new[i] = omega*z + (1-omega)*x[i]\n",
    "        if np.allclose(x, x_new, rtol=epsil):\n",
    "            break\n",
    "        x = x_new\n",
    "    return [x,k]"
   ]
  },
  {
   "cell_type": "markdown",
   "id": "b6bd3158",
   "metadata": {},
   "source": [
    "### American Call Option"
   ]
  },
  {
   "cell_type": "code",
   "execution_count": 20,
   "id": "0b9c741e",
   "metadata": {},
   "outputs": [],
   "source": [
    "def AmCallSOR(S, K, r, T, sigma, Smax, dS, dt, omega):\n",
    "    M = int(np.round(Smax/dS))\n",
    "    dS = Smax/M\n",
    "    N = int(np.round(T/dt))\n",
    "    dt = T/N\n",
    "    V = np.zeros((M+1,N+1))\n",
    "    Sv = np.linspace(0,Smax, M+1)\n",
    "    iv = np.arange(M+1)\n",
    "    jv = np.arange(N+1)\n",
    "    \n",
    "    #Set up boundary conditions\n",
    "    V[:,-1] = np.maximum(Sv-K,0)\n",
    "    V[0,:] = 0\n",
    "    V[M,:] = np.maximum((Smax-K)*np.exp(-r*dt*(N-jv)),Smax-K)\n",
    "    \n",
    "    # Set up tridiagonal coefficient matrix\n",
    "    a = -0.5*dt*((sigma**2)*iv - r)*iv\n",
    "    b = 1+dt*((sigma**2)*(iv**2) + r)\n",
    "    c = -0.5*dt*((sigma**2)*iv + r)*iv\n",
    "    coef_mat =np.diag(a[2:M],-1)+np.diag(b[1:M])+np.diag(c[1:M-1],1)\n",
    "    bc = np.zeros(M-1)\n",
    "    \n",
    "    for j in reversed(np.arange(N)):\n",
    "        bc[0] = -a[1]*V[0,j]\n",
    "        bc[M-2] = -c[M-1]*V[M,j]\n",
    "        # Solve linear system A*V[1:M-1,j] = b with Gauss Seidel\n",
    "        V[1:M,j] = SORGaussSeidel(coef_mat,V[1:M,j+1]+bc,np.zeros((M-1,1)),omega,epsil,MaxIter)[0]\n",
    "        #We include the early exercise option in the valuation \n",
    "        for m in np.arange(0,M):\n",
    "            V[m,j]=np.maximum(Sv[m]-K,V[m,j])\n",
    "\n",
    "    f_interp = interp1d(Sv, V[:,0], kind = 'cubic') # Scipy interpolation\n",
    "    price = f_interp(S) # Scipy interpolation\n",
    "    return [price,SORGaussSeidel(coef_mat,V[1:M,j+1]+bc,np.zeros((M-1,1)),omega,epsil,MaxIter)[1]]"
   ]
  },
  {
   "cell_type": "markdown",
   "id": "c0e57b95",
   "metadata": {},
   "source": [
    "### American Put Option"
   ]
  },
  {
   "cell_type": "code",
   "execution_count": 21,
   "id": "56ff8f2b",
   "metadata": {},
   "outputs": [],
   "source": [
    "def AmPutSOR(S, K, r, T, sigma, Smax, dS, dt,omega):\n",
    "        M = int(np.round(Smax/dS))\n",
    "        dS = Smax/M\n",
    "        N = int(np.round(T/dt))\n",
    "        dt = T/N\n",
    "        V = np.zeros((M+1,N+1))\n",
    "        Sv = np.linspace(0,Smax, M+1)\n",
    "        iv = np.arange(M+1)\n",
    "        jv = np.arange(N+1)\n",
    "        \n",
    "        #Set up boundary conditions\n",
    "        V[:,-1] = np.maximum(K-Sv,0)\n",
    "        V[0,:] = np.maximum((K)*np.exp(-r*dt*(N-jv)),K)\n",
    "        V[M,:] = 0\n",
    "        \n",
    "        # Set up tridiagonal coefficient matrix\n",
    "        a = -0.5*dt*((sigma**2)*iv - r)*iv\n",
    "        b = 1+dt*((sigma**2)*(iv**2) + r)\n",
    "        c = -0.5*dt*((sigma**2)*iv + r)*iv\n",
    "        coef_mat =np.diag(a[2:M],-1)+np.diag(b[1:M])+np.diag(c[1:M-1],1)\n",
    "        bc = np.zeros(M-1)\n",
    "        \n",
    "        for j in reversed(np.arange(N)):\n",
    "            bc[0] = -a[1]*V[0,j]\n",
    "            bc[M-2] = -c[M-1]*V[M,j]\n",
    "            # Solve linear system A*V[1:M-1,j] = b with Gauss Seidel\n",
    "            V[1:M,j] = SORGaussSeidel(coef_mat,V[1:M,j+1]+bc,np.zeros((M-1,1)),omega,epsil,MaxIter)[0]\n",
    "            #We include the early exercise option in the valuation \n",
    "            for m in range(0,M):\n",
    "                V[m,j]=np.maximum(K-Sv[m],V[m,j])\n",
    "\n",
    "        f_interp = interp1d(Sv, V[:,0], kind = 'cubic') # Scipy interpolation\n",
    "        price = f_interp(S) # Scipy interpolation\n",
    "        return [price,SORGaussSeidel(coef_mat,V[1:M,j+1]+bc,np.zeros((M-1,1)),omega,epsil,MaxIter)[1]]"
   ]
  },
  {
   "cell_type": "code",
   "execution_count": 22,
   "id": "c7e1624c",
   "metadata": {},
   "outputs": [
    {
     "name": "stdout",
     "output_type": "stream",
     "text": [
      "American Call Option by Gauss Seidel:  [array(44.07742302), 5]\n",
      "American Put Option by Gauss Seidel:  [array(80.09312237), 4]\n"
     ]
    }
   ],
   "source": [
    "S     = 1000\n",
    "K     = 1050\n",
    "r     = 0.06\n",
    "T     = 3/12\n",
    "sigma = 0.3\n",
    "Smax  = 2000\n",
    "dS    = 140\n",
    "dt    = 0.0025\n",
    "omega = 1\n",
    "\n",
    "Gauss_SeidelSOR_Call = AmCallSOR(S, K, r, T, sigma, Smax, dS, dt, omega)\n",
    "Gauss_SeidelSOR_Put = AmPutSOR(S, K, r, T, sigma, Smax, dS, dt, omega)\n",
    "\n",
    "print(\"American Call Option by Gauss Seidel: \", Gauss_SeidelSOR_Call)\n",
    "print(\"American Put Option by Gauss Seidel: \", Gauss_SeidelSOR_Put)"
   ]
  },
  {
   "cell_type": "markdown",
   "id": "853a3f10",
   "metadata": {},
   "source": [
    "American Option value by Gauss Seidel SOR method for Call Option value is <b> *44.07* </b> and American Put Option value is <b> *80.09* </b>."
   ]
  },
  {
   "cell_type": "markdown",
   "id": "098ca025",
   "metadata": {},
   "source": [
    "# Question 2: American Options with Dividend"
   ]
  },
  {
   "cell_type": "markdown",
   "id": "91d70020",
   "metadata": {},
   "source": [
    "## Binomial Method"
   ]
  },
  {
   "cell_type": "code",
   "execution_count": 23,
   "id": "ec84bcd9",
   "metadata": {},
   "outputs": [],
   "source": [
    "def binomialAmericanOption_Dividend(S, K, r, T, sigma, div, t_div, n=100, option='call'):\n",
    "    deltaT = T/n\n",
    "    u = np.exp(sigma * np.sqrt(deltaT))\n",
    "    d = 1.0 / u\n",
    "    a = np.exp((r-div)*deltaT)\n",
    "    q = (a-d) / (u-d)\n",
    "    Sv = np.zeros((n+1,n+1))\n",
    "    V = np.zeros((n+1,n+1))\n",
    "    \n",
    "    # Build stock price matrix forward\n",
    "    for j in range(n+1):\n",
    "        for i in range(j+1):\n",
    "            Sv[i,j] = S * (u**i) * (d**(j-i))\n",
    "            # subtract present value of dividends from stock price\n",
    "            if t_div > j * deltaT:\n",
    "                Sv[i,j] -= div * np.exp(-r * (t_div - j * deltaT))\n",
    "            \n",
    "    if option == 'call':\n",
    "        CorP = 1\n",
    "    elif option == 'put':\n",
    "        CorP = -1\n",
    "        V[:,-1] = np.maximum((Sv[:,-1]-K)*CorP,0)\n",
    "   \n",
    "    # Price option with backward induction\n",
    "    for j in reversed(range(n)):\n",
    "        for i in range(j+1):\n",
    "            V[i,j] = np.exp(-r*deltaT) * (q*V[i+1,j+1] + (1.0-q)*V[i,j+1])\n",
    "            V[i,j] = np.maximum(V[i,j], (Sv[i,j]-K)*CorP)\n",
    "    \n",
    "            # check if it's optimal to exercise early\n",
    "            if option == 'put':\n",
    "                V[i,j] = max(V[i,j], K - Sv[i,j])\n",
    "            else:\n",
    "                V[i,j] = max(V[i,j], Sv[i,j] - K)                \n",
    "    return V[0,0]"
   ]
  },
  {
   "cell_type": "markdown",
   "id": "7803d1df",
   "metadata": {},
   "source": [
    "### Dividend -  4% "
   ]
  },
  {
   "cell_type": "code",
   "execution_count": 24,
   "id": "e736b27b",
   "metadata": {},
   "outputs": [
    {
     "name": "stdout",
     "output_type": "stream",
     "text": [
      "Binomial Method for American Call Option with Dividend:  40.58174231864723\n",
      "Binomial method for American Put Option with Dividend:  86.2143325880707\n"
     ]
    }
   ],
   "source": [
    "S     = 1000\n",
    "K     = 1050\n",
    "r     = 0.06\n",
    "T     = 3/12\n",
    "sigma = 0.3\n",
    "Smax  = 2000\n",
    "div   = 0.04\n",
    "t_div = T/2\n",
    "\n",
    "BMC_div=binomialAmericanOption_Dividend(S, K, r, T, sigma, div, t_div, n=100, option='call')\n",
    "BMP_div=binomialAmericanOption_Dividend(S, K, r, T, sigma, div, t_div, n=100, option='put')\n",
    "\n",
    "print(\"Binomial Method for American Call Option with Dividend: \",BMC_div)\n",
    "print(\"Binomial method for American Put Option with Dividend: \",BMP_div)"
   ]
  },
  {
   "cell_type": "markdown",
   "id": "43b2e9e4",
   "metadata": {},
   "source": [
    "### Dividend - 10%"
   ]
  },
  {
   "cell_type": "code",
   "execution_count": 25,
   "id": "a13fd1f1",
   "metadata": {},
   "outputs": [
    {
     "name": "stdout",
     "output_type": "stream",
     "text": [
      "Binomial Method for American Call Option with Dividend:  35.38810896825042\n",
      "Binomial method for American Put Option with Dividend:  94.26837928980662\n"
     ]
    }
   ],
   "source": [
    "S     = 1000\n",
    "K     = 1050\n",
    "r     = 0.06\n",
    "T     = 3/12\n",
    "sigma = 0.3\n",
    "Smax  = 2000\n",
    "div   = 0.10\n",
    "t_div = T/2\n",
    "\n",
    "BMC_div=binomialAmericanOption_Dividend(S, K, r, T, sigma, div, t_div, n=100, option='call')\n",
    "BMP_div=binomialAmericanOption_Dividend(S, K, r, T, sigma, div, t_div, n=100, option='put')\n",
    "\n",
    "print(\"Binomial Method for American Call Option with Dividend: \",BMC_div)\n",
    "print(\"Binomial method for American Put Option with Dividend: \",BMP_div)"
   ]
  },
  {
   "cell_type": "markdown",
   "id": "2529206d",
   "metadata": {},
   "source": [
    "## Explicit Finite Difference Method"
   ]
  },
  {
   "cell_type": "markdown",
   "id": "9deaf0ba",
   "metadata": {},
   "source": [
    "### American Call Option  with Dividend"
   ]
  },
  {
   "cell_type": "code",
   "execution_count": 26,
   "id": "ab7a5ad3",
   "metadata": {},
   "outputs": [],
   "source": [
    "def AmCallEx_Dividend(S, K, r, T, sigma, Smax, dS, dt, div):\n",
    "    M = np.int_(np.round(Smax/dS))\n",
    "    dS = Smax/M\n",
    "    N = np.int_(np.round(T/dt))\n",
    "    dt = T/N\n",
    "    V = np.zeros((M+1,N+1))\n",
    "    Sv = np.linspace(0,Smax, M+1)\n",
    "    iv = np.arange(M+1)\n",
    "    jv = np.arange(N+1)\n",
    "    \n",
    "    V[:,-1] = np.maximum(Sv-K,0)\n",
    "    V[0,:] = 0\n",
    "    V[M,:] = Smax - K*np.exp(-r*dt*(N-jv))\n",
    "    \n",
    "    a = 0.5*dt*((sigma**2)*iv - (r-div))*iv\n",
    "    b = 1-dt*((sigma**2)*(iv**2) + (r-div))\n",
    "    c = 0.5*dt*((sigma**2)*iv + (r-div))*iv\n",
    "    \n",
    "    for j in reversed(np.arange(N)):\n",
    "        for i in np.arange(1,M):\n",
    "            Sv_div = Sv[i] - div * np.exp(-r * (N-j) * dt)\n",
    "            V[i,j] = a[i]*V[i-1,j+1]+b[i]*V[i,j+1]+c[i]*V[i+1,j+1]\n",
    "            V[i,j] = np.maximum(V[i,j], Sv_div-K)\n",
    "            V[i,j] = np.maximum(V[i,j], (a[i]+b[i]+c[i])*V[i,j+1])\n",
    "            \n",
    "    f_interp = interp1d(Sv, V[:,0], kind = 'cubic') # Scipy interpolation    \n",
    "    price = f_interp(S)\n",
    "    return [Sv, V[:,0], price]"
   ]
  },
  {
   "cell_type": "code",
   "execution_count": 27,
   "id": "c97540e3",
   "metadata": {},
   "outputs": [
    {
     "name": "stdout",
     "output_type": "stream",
     "text": [
      "price_fd, 40.26310672113602\n"
     ]
    },
    {
     "data": {
      "text/plain": [
       "<matplotlib.legend.Legend at 0x1b068898c40>"
      ]
     },
     "execution_count": 27,
     "metadata": {},
     "output_type": "execute_result"
    },
    {
     "data": {
      "image/png": "[encoded data removed]",
      "text/plain": [
       "<Figure size 640x480 with 1 Axes>"
      ]
     },
     "metadata": {},
     "output_type": "display_data"
    }
   ],
   "source": [
    "S     = 1000\n",
    "K     = 1050\n",
    "r     = 0.06\n",
    "T     = 3/12\n",
    "sigma = 0.3\n",
    "Smax  = 2000\n",
    "dS    = 140\n",
    "dt    = 0.0025\n",
    "div   = 0.04\n",
    "\n",
    "Call = AmCallEx_Dividend(S, K, r, T, sigma, Smax, dS, dt, div)\n",
    "Sv = Call[0]\n",
    "f = Call[1]\n",
    "price_fd = Call[2]\n",
    "\n",
    "print('price_fd,', price_fd)\n",
    "\n",
    "plt.plot(Sv, f, '-', label='Option Price')\n",
    "plt.plot(Sv, np.maximum(Sv-K, 0), '-', label='Option Payoff')\n",
    "plt.xlabel('Stock Price')\n",
    "plt.ylabel('Option Price')\n",
    "plt.legend()"
   ]
  },
  {
   "cell_type": "markdown",
   "id": "c7d4c886",
   "metadata": {},
   "source": [
    "### American Put Option with Dividend"
   ]
  },
  {
   "cell_type": "code",
   "execution_count": 28,
   "id": "5e64473a",
   "metadata": {},
   "outputs": [],
   "source": [
    "def AmPutEx_Dividend(S, K, r, T, sigma, Smax, dS, dt, div):\n",
    "    M = np.int_(np.round(Smax/dS))\n",
    "    dS = Smax/M\n",
    "    N = np.int_(np.round(T/dt))\n",
    "    dt = T/N\n",
    "    V = np.zeros((M+1,N+1))\n",
    "    Sv = np.linspace(0,Smax, M+1)\n",
    "    iv = np.arange(M+1)\n",
    "    jv = np.arange(N+1)\n",
    "    \n",
    "    V[:,-1] = np.maximum(K-Sv,0)\n",
    "    V[0,:] = K*np.exp(-r*dt*(N-jv))\n",
    "    V[M,:] = 0\n",
    "    \n",
    "    a = 0.5*dt*((sigma**2)*iv - (r-div))*iv\n",
    "    b = 1-dt*((sigma**2)*(iv**2) + (r-div))\n",
    "    c = 0.5*dt*((sigma**2)*iv + (r-div))*iv\n",
    "    \n",
    "    for j in reversed(np.arange(N)):\n",
    "        for i in np.arange(1,M):\n",
    "            Sv_div = Sv[i] - div * np.exp(-r * (N-j) * dt)\n",
    "            V[i,j] = a[i]*V[i-1,j+1]+b[i]*V[i,j+1]+c[i]*V[i+1,j+1]\n",
    "            V[i,j] = np.maximum(V[i,j], K-Sv_div)\n",
    "            V[i,j] = np.maximum(V[i,j], (a[i]+b[i]+c[i])*V[i,j+1])\n",
    "            \n",
    "    f_interp = interp1d(Sv, V[:,0], kind = 'cubic') # Scipy interpolation    \n",
    "    price = f_interp(S)\n",
    "    return [Sv, V[:,0], price]"
   ]
  },
  {
   "cell_type": "code",
   "execution_count": 29,
   "id": "dee927c7",
   "metadata": {},
   "outputs": [
    {
     "name": "stdout",
     "output_type": "stream",
     "text": [
      "price_fd, 85.31501993751996\n"
     ]
    },
    {
     "data": {
      "text/plain": [
       "<matplotlib.legend.Legend at 0x1b06891a370>"
      ]
     },
     "execution_count": 29,
     "metadata": {},
     "output_type": "execute_result"
    },
    {
     "data": {
      "image/png": "[encoded data removed]",
      "text/plain": [
       "<Figure size 640x480 with 1 Axes>"
      ]
     },
     "metadata": {},
     "output_type": "display_data"
    }
   ],
   "source": [
    "S     = 1000\n",
    "K     = 1050\n",
    "r     = 0.06\n",
    "T     = 3/12\n",
    "sigma = 0.3\n",
    "Smax  = 2000\n",
    "dS    = 140\n",
    "dt    = 0.0025\n",
    "div   = 0.04\n",
    "\n",
    "Put = AmPutEx_Dividend(S, K, r, T, sigma, Smax, dS, dt, div)\n",
    "Sv = Put[0]\n",
    "f = Put[1]\n",
    "price_fd = Put[2]\n",
    "\n",
    "print('price_fd,', price_fd)\n",
    "\n",
    "plt.plot(Sv, f, '-', label='Option Price')\n",
    "plt.plot(Sv, np.maximum(K-Sv, 0), '-', label='Option Payoff')\n",
    "plt.xlabel('Stock Price')\n",
    "plt.ylabel('Option Price')\n",
    "plt.legend()"
   ]
  },
  {
   "cell_type": "markdown",
   "id": "1ff0c4c2",
   "metadata": {},
   "source": [
    "### American Call Option"
   ]
  },
  {
   "cell_type": "markdown",
   "id": "11f77720",
   "metadata": {},
   "source": [
    "### Americal Call Option - Gauss Seidel Method"
   ]
  },
  {
   "cell_type": "code",
   "execution_count": 38,
   "id": "887863c3",
   "metadata": {},
   "outputs": [],
   "source": [
    "def AmcallIm_GS_Div2(S, K, r, T, sigma, Smax, dS, dt):\n",
    "    \n",
    "    M = np.int64(np.round(Smax/dS))\n",
    "    dS = Smax/M\n",
    "    N = np.int64(np.round(T/dt))\n",
    "    dt = T/N\n",
    "    V = np.zeros((M+1,N+1))\n",
    "    div=0.1                                     # Dividend of 4% assumed at the middle of time frame\n",
    "    \n",
    "    Sv = np.linspace(0,Smax, M+1)\n",
    "    iv = np.arange(M+1)\n",
    "    jv = np.arange(N+1)\n",
    "    \n",
    "    # Set up boundary conditions\n",
    "    V[:,-1] = np.maximum(Sv*(1-div)-K,0)         # The boundary condition is adjusted for dividend\n",
    "    V[0,:] = 0\n",
    "    V[M,:] = Smax-K*np.exp(-r*dt*(N-jv))\n",
    "    \n",
    "    # Set up tridiagonal coefficient matrix\n",
    "    a = -0.5*dt*((sigma**2)*iv - r)*iv\n",
    "    b = 1+dt*((sigma**2)*(iv**2) + r)\n",
    "    c = -0.5*dt*((sigma**2)*iv + r)*iv\n",
    "    \n",
    "    coef_mat = np.diag(a[2:M],-1) + np.diag(b[1:M]) + np.diag(c[1:M-1],1)\n",
    "    bc = np.zeros(M-1)\n",
    "    x0 = np.zeros(M-1)\n",
    "    A = coef_mat\n",
    "    \n",
    "    for j in reversed(np.arange(N)):\n",
    "        bc[0] = -a[1]*V[0,j]\n",
    "        bc[-1] = -c[-2]*V[M,j] \n",
    "        B = V[1:M, j+1] + bc\n",
    "        x_new = GaussSeidel(A,B,x0,1e-8,1000)\n",
    "        \n",
    "        # Converting list to numpy array\n",
    "        x_new = np.array(x_new)\n",
    "        \n",
    "        V[1:M, j] = np.maximum(x_new, Sv[1:M]*(1-div)-K) if j > (N/2) else np.maximum(x_new, Sv[1:M]-K)\n",
    "        \n",
    "    f_interp = interp1d(Sv, V[:,0], kind = \"cubic\") # Scipy interpolation\n",
    "    price = f_interp(S) # Scipy interpolation\n",
    "    return [Sv, V[:,0], price]"
   ]
  },
  {
   "cell_type": "markdown",
   "id": "d97a82ff",
   "metadata": {},
   "source": [
    "### Dividend - 4% "
   ]
  },
  {
   "cell_type": "code",
   "execution_count": 39,
   "id": "25ed0e13",
   "metadata": {},
   "outputs": [
    {
     "name": "stdout",
     "output_type": "stream",
     "text": [
      "American Call Option by Gauss Seidel Method(Dividend-4%):  27.34062083266842\n"
     ]
    }
   ],
   "source": [
    "S     = 1000\n",
    "K     = 1050\n",
    "r     = 0.06\n",
    "T     = 3/12\n",
    "sigma = 0.3\n",
    "Smax  = 2000\n",
    "dS    = 140\n",
    "dt    = 0.0025\n",
    "div   = 0.04\n",
    "t_div = T/2\n",
    "\n",
    "AOC   =  AmcallIm_GS_Div2(S, K, r, T, sigma, Smax, dS, dt)[2]\n",
    "\n",
    "print(\"American Call Option by Gauss Seidel Method(Dividend-4%): \",AOC)"
   ]
  },
  {
   "cell_type": "markdown",
   "id": "d74fea4a",
   "metadata": {},
   "source": [
    "### Dividend - 10% "
   ]
  },
  {
   "cell_type": "code",
   "execution_count": 40,
   "id": "83be5959",
   "metadata": {},
   "outputs": [
    {
     "name": "stdout",
     "output_type": "stream",
     "text": [
      "American Call Option by Gauss Seidel Method(Dividend-10%):  27.34062083266842\n"
     ]
    }
   ],
   "source": [
    "S     = 1000\n",
    "K     = 1050\n",
    "r     = 0.06\n",
    "T     = 3/12\n",
    "sigma = 0.3\n",
    "Smax  = 2000\n",
    "dS    = 140\n",
    "dt    = 0.0025\n",
    "div   = 0.10\n",
    "t_div = T/2\n",
    "\n",
    "AOC   =  AmcallIm_GS_Div2(S, K, r, T, sigma, Smax, dS, dt)[2]\n",
    "\n",
    "print(\"American Call Option by Gauss Seidel Method(Dividend-10%): \",AOC)"
   ]
  },
  {
   "cell_type": "markdown",
   "id": "b641d411",
   "metadata": {},
   "source": [
    "### American Put Option - Gauss Seidel Method "
   ]
  },
  {
   "cell_type": "code",
   "execution_count": 41,
   "id": "a6765a18",
   "metadata": {},
   "outputs": [],
   "source": [
    "import numpy as np\n",
    "from scipy.interpolate import interp1d\n",
    "\n",
    "def AmPUTIm_GS_Div2(S, K, r, T, sigma, Smax, dS, dt):\n",
    "    \n",
    "    M = np.int64(np.round(Smax/dS))\n",
    "    dS = Smax/M\n",
    "    N = np.int64(np.round(T/dt))\n",
    "    dt = T/N\n",
    "    V = np.zeros((M+1,N+1))                                    \n",
    "    \n",
    "    Sv = np.linspace(0,Smax, M+1)\n",
    "    iv = np.arange(M+1)\n",
    "    jv = np.arange(N+1)\n",
    "    \n",
    "    # Set up boundary conditions\n",
    "    V[:,-1] = np.maximum(K-Sv*(1-div),0)\n",
    "    V[0,:] = 0\n",
    "    V[M,:] = K*np.exp(-r*dt*(N-jv))\n",
    "    \n",
    "    # Set up tridiagonal coefficient matrix\n",
    "    a = -0.5*dt*((sigma**2)*iv - r)*iv\n",
    "    b = 1+dt*((sigma**2)*(iv**2) + r)\n",
    "    c = -0.5*dt*((sigma**2)*iv + r)*iv\n",
    "    \n",
    "    coef_mat = np.diag(a[2:M],-1) + np.diag(b[1:M]) + np.diag(c[1:M-1],1)\n",
    "    bc = np.zeros(M-1)\n",
    "    x0 = np.zeros(M-1)\n",
    "    A = coef_mat\n",
    "    \n",
    "    for j in reversed(np.arange(N)):\n",
    "        bc[0] = -a[1]*V[0,j]\n",
    "        bc[-1] = -c[-2]*V[M,j] \n",
    "        B = V[1:M, j+1] + bc\n",
    "        x_new = GaussSeidel(A,B,x0,1e-8,1000)\n",
    "        \n",
    "        # Converting list to numpy array\n",
    "        x_new = np.array(x_new)\n",
    "        \n",
    "        V[1:M, j] = np.maximum(x_new, K-Sv[1:M]*(1-div)) if j > (N/2) else np.maximum(x_new, K-Sv[1:M])\n",
    "        \n",
    "    f_interp = interp1d(Sv, V[:,0], kind = \"cubic\") # Scipy interpolation\n",
    "    price = f_interp(S) # Scipy interpolation\n",
    "    return [Sv, V[:,0], price]"
   ]
  },
  {
   "cell_type": "markdown",
   "id": "aa41bbad",
   "metadata": {},
   "source": [
    "### Dividend 4% "
   ]
  },
  {
   "cell_type": "code",
   "execution_count": 42,
   "id": "67c70117",
   "metadata": {},
   "outputs": [
    {
     "name": "stdout",
     "output_type": "stream",
     "text": [
      "American Put Option by Gauss Seidel Method(Dividend-4%):  106.06931789033737\n"
     ]
    }
   ],
   "source": [
    "S     = 1000\n",
    "K     = 1050\n",
    "r     = 0.06\n",
    "T     = 3/12\n",
    "sigma = 0.3\n",
    "Smax  = 2000\n",
    "dS    = 140\n",
    "dt    = 0.0025\n",
    "div   = 0.04\n",
    "t_div = T/2\n",
    "\n",
    "AOP   =  AmPUTIm_GS_Div2(S, K, r, T, sigma, Smax, dS, dt)[2]\n",
    "\n",
    "print(\"American Put Option by Gauss Seidel Method(Dividend-4%): \",AOP)"
   ]
  },
  {
   "cell_type": "markdown",
   "id": "d9e86e84",
   "metadata": {},
   "source": [
    "### Dividend 10%"
   ]
  },
  {
   "cell_type": "code",
   "execution_count": 43,
   "id": "f0b8cd15",
   "metadata": {},
   "outputs": [
    {
     "name": "stdout",
     "output_type": "stream",
     "text": [
      "American Put Option by Gauss Seidel Method(Dividend-10%):  151.3014973351519\n"
     ]
    }
   ],
   "source": [
    "S     = 1000\n",
    "K     = 1050\n",
    "r     = 0.06\n",
    "T     = 3/12\n",
    "sigma = 0.3\n",
    "Smax  = 2000\n",
    "dS    = 140\n",
    "dt    = 0.0025\n",
    "div   = 0.10\n",
    "t_div = T/2\n",
    "\n",
    "AOP   =  AmPUTIm_GS_Div2(S, K, r, T, sigma, Smax, dS, dt)[2]\n",
    "\n",
    "print(\"American Put Option by Gauss Seidel Method(Dividend-10%): \",AOP)"
   ]
  },
  {
   "cell_type": "code",
   "execution_count": null,
   "id": "f6e75ee8",
   "metadata": {},
   "outputs": [],
   "source": []
  },
  {
   "cell_type": "code",
   "execution_count": null,
   "id": "40b8611a",
   "metadata": {},
   "outputs": [],
   "source": []
  }
 ],
 "metadata": {
  "kernelspec": {
   "display_name": "Python 3 (ipykernel)",
   "language": "python",
   "name": "python3"
  },
  "language_info": {
   "codemirror_mode": {
    "name": "ipython",
    "version": 3
   },
   "file_extension": ".py",
   "mimetype": "text/x-python",
   "name": "python",
   "nbconvert_exporter": "python",
   "pygments_lexer": "ipython3",
   "version": "3.9.13"
  }
 },
 "nbformat": 4,
 "nbformat_minor": 5
}
